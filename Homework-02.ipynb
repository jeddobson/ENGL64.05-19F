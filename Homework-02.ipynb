{
 "cells": [
  {
   "cell_type": "markdown",
   "metadata": {},
   "source": [
    "<center><h1>Cultural Analytics: Homework #2</h1></center>\n",
    "\n",
    "<center><b>Due</b> 11:59PM 10/04/2019</center>\n",
    "\n",
    "---"
   ]
  },
  {
   "cell_type": "code",
   "execution_count": null,
   "metadata": {
    "collapsed": false
   },
   "outputs": [],
   "source": [
    "import os\n",
    "import csv\n",
    "import numpy as np\n",
    "import sklearn"
   ]
  },
  {
   "cell_type": "code",
   "execution_count": null,
   "metadata": {
    "collapsed": false
   },
   "outputs": [],
   "source": [
    "input_data = list()\n",
    "row_count = 0\n",
    "with open('data/na-slave-narratives/data/toc.csv', 'rt') as csvfile:\n",
    "    reader = csv.reader(csvfile)\n",
    "    for row in reader:\n",
    "        # deal with the header\n",
    "        if row_count != 0:\n",
    "            filename = 'data/na-slave-narratives/data/texts/' + row[0]\n",
    "            filename = filename.replace('.xml','.txt')\n",
    "            line = [filename,row[1],row[5]]\n",
    "            input_data.append(line)\n",
    "        row_count += 1\n",
    "print(\"read\",row_count,\"lines\")"
   ]
  },
  {
   "cell_type": "code",
   "execution_count": null,
   "metadata": {
    "collapsed": false
   },
   "outputs": [],
   "source": [
    "# Display table for later reference\n",
    "# TEXT NUMBER, AUTHOR, FILENAME\n",
    "\n",
    "\n",
    "for i, row in enumerate(input_data):\n",
    "    filename = os.path.basename(row[0])\n",
    "    print(i, row[1], filename)"
   ]
  },
  {
   "cell_type": "code",
   "execution_count": null,
   "metadata": {
    "collapsed": false
   },
   "outputs": [],
   "source": [
    "# Import CountVectorizer and configure options\n",
    "# to learn more about the various options, see the\n",
    "# documentation for this function:\n",
    "# https://scikit-learn.org/stable/modules/generated/sklearn.feature_extraction.text.CountVectorizer.html\n",
    "\n",
    "from sklearn.feature_extraction import text\n",
    "vectorizer = text.CountVectorizer(input='filename',\n",
    "                                  lowercase='true',\n",
    "                                  strip_accents='unicode')\n",
    "\n",
    "# just extract file names from input_data\n",
    "input_files = [item[0] for item in input_data]\n",
    "\n",
    "# This does the actual vectorization\n",
    "counts = vectorizer.fit_transform(input_files)\n",
    "\n",
    "# Return total number of documents and the number of items in the vocabulary\n",
    "dc, vc = counts.shape\n",
    "print(\"document count:\",dc,\"vocabulary count:\",vc)"
   ]
  },
  {
   "cell_type": "code",
   "execution_count": null,
   "metadata": {
    "collapsed": false
   },
   "outputs": [],
   "source": [
    "# what are our top terms?\n",
    "vocab_sums = counts.sum(axis=0)\n",
    "sorted_vocab = [(v, vocab_sums[0, i]) for v, i in vectorizer.vocabulary_.items()]\n",
    "sorted_vocab = sorted(sorted_vocab, key = lambda x: x[1], reverse=True)\n",
    "\n",
    "# display top twenty words\n",
    "for i in range(1,20):\n",
    "    print(sorted_vocab[i][0],\"->\",sorted_vocab[i][1])"
   ]
  },
  {
   "cell_type": "code",
   "execution_count": null,
   "metadata": {
    "collapsed": true
   },
   "outputs": [],
   "source": [
    "# calculate euclidean distance between each text\n",
    "from sklearn.metrics.pairwise import euclidean_distances\n",
    "counts = counts.toarray()\n",
    "euclidean_dist_matrix = euclidean_distances(counts)"
   ]
  },
  {
   "cell_type": "code",
   "execution_count": null,
   "metadata": {
    "collapsed": false
   },
   "outputs": [],
   "source": [
    "# DEFINE TEXT TO COMPARE FROM ABOVE LIST\n",
    "# Change this to valid number from the third cell\n",
    "\n",
    "compare_number = XXXX\n",
    "\n",
    "\n",
    "difference_list=dict()\n",
    "for i, text in enumerate(input_data): \n",
    "    difference_list[i] = np.round(euclidean_dist_matrix[compare_number,i],3)\n",
    "    i += 1"
   ]
  },
  {
   "cell_type": "code",
   "execution_count": null,
   "metadata": {
    "collapsed": false
   },
   "outputs": [],
   "source": [
    "# display sorted distances in vector space from our selected text\n",
    "for i in sorted(difference_list, key=difference_list.__getitem__):\n",
    "    print(difference_list[i],input_data[i][1],input_data[i][2])"
   ]
  },
  {
   "cell_type": "markdown",
   "metadata": {},
   "source": [
    "<b>Question #1:</b> Alter the 'XXXX' for the variable compare_number to one of the texts listed. Execute all the cells. Examine the list in the eighth cell and click on the first two texts and skim through them. Do they seem similar? What surprises you about these texts? What surprises you about the list as a whole?\n",
    "\n",
    "Response goes here."
   ]
  },
  {
   "cell_type": "markdown",
   "metadata": {},
   "source": [
    "<b>Question #2:</b> Alter the options for the CountVectorizer in the above cell. Drop the default list of stop words from the count. How does this alter the distances reported from those found in your prior results? What differences do you see in the top terms? Select at least one other option for CountVectorizer and examine the top terms and distance matrix results.\n",
    "\n",
    "Response goes here."
   ]
  },
  {
   "cell_type": "markdown",
   "metadata": {},
   "source": [
    "<b>Question #3:</b> Matthew Jockers claimed that his model demonstrated influence. To what degree do you think this is correct based on your work in this assignment?\n",
    "\n",
    "Response goes here."
   ]
  }
 ],
 "metadata": {
  "kernelspec": {
   "display_name": "Python 3",
   "language": "python",
   "name": "python3"
  },
  "language_info": {
   "codemirror_mode": {
    "name": "ipython",
    "version": 3
   },
   "file_extension": ".py",
   "mimetype": "text/x-python",
   "name": "python",
   "nbconvert_exporter": "python",
   "pygments_lexer": "ipython3",
   "version": "3.5.5"
  }
 },
 "nbformat": 4,
 "nbformat_minor": 2
}
