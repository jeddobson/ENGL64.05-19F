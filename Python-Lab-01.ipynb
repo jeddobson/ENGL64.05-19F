{
 "cells": [
  {
   "cell_type": "markdown",
   "metadata": {},
   "source": [
    "<center>\n",
    "    <h1>Cultural Analytics</h1><br>\n",
    "    <h2>ENGL64.05 Fall 2019</h2>\n",
    "</center>\n",
    "\n",
    "----\n",
    "# Introduction to the Jupyter Notebook and all about Strings\n",
    "\n",
    "\n",
    "<center><pre>Rev: 08/20/2019</pre></center>"
   ]
  },
  {
   "cell_type": "code",
   "execution_count": null,
   "metadata": {
    "collapsed": true
   },
   "outputs": [],
   "source": [
    "# This is Jupyter code cell. This line is a comment; comments are not executed by the interpreter.\n",
    "\n",
    "# Here we are assigning a variable 'var' the value of 'Cultural Analytics'\n",
    "# this will automatically make var a string\n",
    "var = 'Cultural Analytics'"
   ]
  },
  {
   "cell_type": "code",
   "execution_count": null,
   "metadata": {
    "collapsed": true
   },
   "outputs": [],
   "source": [
    "# To see the type assigned, we can use the type() function:\n",
    "type(var)"
   ]
  },
  {
   "cell_type": "code",
   "execution_count": null,
   "metadata": {
    "collapsed": true
   },
   "outputs": [],
   "source": [
    "# To see the value of a String (especially a short one), we can use the print() function:\n",
    "print(var)"
   ]
  },
  {
   "cell_type": "code",
   "execution_count": null,
   "metadata": {
    "collapsed": true,
    "scrolled": true
   },
   "outputs": [],
   "source": [
    "# Strings enable us to store and manipulate data, especially text-based data.\n",
    "# They are sequences of characters. Perfect for manipulation of text.\n",
    "# We can easily access individual characters:\n",
    "print(var[0])\n",
    "print(var[1])\n",
    "print(var[2])\n",
    "print(var[3])\n",
    "print(var[4])\n",
    "print(var[5])\n",
    "print(var[6])\n",
    "print(var[7])"
   ]
  },
  {
   "cell_type": "code",
   "execution_count": null,
   "metadata": {
    "collapsed": true
   },
   "outputs": [],
   "source": [
    "# But that was a silly way of obtaining those characters:\n",
    "print(var[:8])\n",
    "# Here we've exposed something confusing: Strings-as-sequences begin with \n",
    "# the index of 0, so the first character is the zero-eth element but some \n",
    "# methods are going to ask for a specific number of characters--so we want\n",
    "# the first eight characters."
   ]
  },
  {
   "cell_type": "code",
   "execution_count": null,
   "metadata": {
    "collapsed": true
   },
   "outputs": [],
   "source": [
    "# Our first \"analytics\" experiment would be count the number of characters\n",
    "# in our variable.\n",
    "len(var)"
   ]
  },
  {
   "cell_type": "code",
   "execution_count": null,
   "metadata": {
    "collapsed": true
   },
   "outputs": [],
   "source": [
    " # We also learned about iteration.\n",
    "for character in var:\n",
    "    print(character)"
   ]
  },
  {
   "cell_type": "code",
   "execution_count": null,
   "metadata": {
    "collapsed": true
   },
   "outputs": [],
   "source": [
    "# Let's use some String methods. This method displays the value of our \n",
    "# string variable in lowercase.\n",
    "\n",
    "# NOTE: this does not alter the string. Strings are immutable, meaning\n",
    "# we can replace but not modify a string.\n",
    "var.lower()"
   ]
  },
  {
   "cell_type": "code",
   "execution_count": null,
   "metadata": {
    "collapsed": true
   },
   "outputs": [],
   "source": [
    "# See?\n",
    "print(var)"
   ]
  },
  {
   "cell_type": "code",
   "execution_count": null,
   "metadata": {
    "collapsed": true
   },
   "outputs": [],
   "source": [
    "# Counting and comparing words *usually* will take place with lowercase\n",
    "# characters. Here is an example of a long string:\n",
    "sentence = 'To care for poetry in this way does not make one a poet, but it does make one feel blessedly rich, and quite indifferent to many things which are usually looked upon as desirable possessions'\n"
   ]
  },
  {
   "cell_type": "code",
   "execution_count": null,
   "metadata": {
    "collapsed": true
   },
   "outputs": [],
   "source": [
    "# Let's use another method to count the number of times the substring \"one\"\n",
    "# appears in this string:\n",
    "sentence.count(\"one\")"
   ]
  },
  {
   "cell_type": "code",
   "execution_count": null,
   "metadata": {
    "collapsed": true
   },
   "outputs": [],
   "source": [
    "# If we want to count the number of times \"to\" appears:\n",
    "sentence.count(\"to\")"
   ]
  },
  {
   "cell_type": "code",
   "execution_count": null,
   "metadata": {
    "collapsed": true
   },
   "outputs": [],
   "source": [
    "# To solve that problem, we can create a new variable to store the \n",
    "# value of the lowercase sentence:\n",
    "sentence_lowercase = sentence.lower()\n",
    "\n",
    "# and then check:\n",
    "sentence_lowercase.count(\"to\")"
   ]
  },
  {
   "cell_type": "code",
   "execution_count": null,
   "metadata": {
    "collapsed": true
   },
   "outputs": [],
   "source": [
    "# Or we can stack up our methods and operate on the original string:\n",
    "sentence.lower().count(\"to\")"
   ]
  },
  {
   "cell_type": "code",
   "execution_count": null,
   "metadata": {
    "collapsed": true
   },
   "outputs": [],
   "source": [
    "# Like the for loop above, we can iterate through sequences of the\n",
    "# result of a method called split(). The split method is going to\n",
    "# be very important for text analysis. \n",
    "\n",
    "# Working character by character is fine for some stuff, but we \n",
    "# really care about words, not characters.\n",
    "\n",
    "# The default way in which split() works is to split on the delimiter\n",
    "# of a space--ideal for splitting a sentence. We'll worry more about \n",
    "# what is returned by split() later, but this gets us started with\n",
    "# working on words.\n",
    "\n",
    "for word in sentence.split():\n",
    "    print(word)"
   ]
  },
  {
   "cell_type": "code",
   "execution_count": null,
   "metadata": {
    "collapsed": true
   },
   "outputs": [],
   "source": [
    "# How many words did we find?\n",
    "print(len(sentence.split()))"
   ]
  },
  {
   "cell_type": "code",
   "execution_count": null,
   "metadata": {
    "collapsed": true
   },
   "outputs": [],
   "source": [
    "# Now let's work with something more complicated. This is the Prologue to\n",
    "# George R. R. Martin's _A Game of Thrones_\n",
    "\n",
    "prologue=\"\"\"\n",
    "We should start back,” Gared urged as the woods began to grow dark around them. “The wildlings are dead.”\n",
    "“Do the dead frighten you?” Ser Waymar Royce asked with just the hint of a smile. Gared did not rise to the bait. He was an old man, past fifty, and he had seen the\n",
    "lordlings come and go. “Dead is dead,” he said. “We have no business with the dead.”\n",
    "\n",
    "\n",
    "“Are they dead?” Royce asked softly. “What proof have we?”\n",
    "“Will saw them,” Gared said. “If he says they are dead, that’s proof enough for me.” Will had known they would drag him into the quarrel sooner or later. He wished it had\n",
    "been later rather than sooner. “My mother told me that dead men sing no songs,” he put in.\n",
    "\n",
    "\n",
    "“My wet nurse said the same thing, Will,” Royce replied. “Never believe anything you hear at a woman’s tit. There are things to be learned even from the dead.” His voice echoed, too loud in the twilit forest.\n",
    "\n",
    "\n",
    "“We have a long ride before us,” Gared pointed out. “Eight days, maybe nine. And night is falling.”\n",
    "\n",
    "\n",
    "Ser Waymar Royce glanced at the sky with disinterest. “It does that every day about this time. Are you unmanned by the dark, Gared?”\n",
    "\n",
    "\n",
    "Will could see the tightness around Gared’s mouth, the barely suppressed anger in his eyes under the thick black hood of his cloak. Gared had spent forty years in the Night’s Watch, man and boy, and he was not accustomed to being made light of. Yet it was more than that. Under the wounded pride, Will could sense something else in the older man. You could taste it; a nervous tension that came perilous close to fear.\n",
    "\n",
    "\n",
    "Will shared his unease. He had been four years on the Wall. The first time he had been sent beyond, all the old stories had come rushing back, and his bowels had turned to water. He had laughed about it afterward. He was a veteran of a hundred rangings by\n",
    "\n",
    "now, and the endless dark wilderness that the southron called the haunted forest had no more terrors for him.\n",
    "\n",
    "\n",
    "Until tonight. Something was different tonight. There was an edge to this darkness that made his hackles rise. Nine days they had been riding, north and northwest and then north again, farther and farther from the Wall, hard on the track of a band of wildling raiders. Each day had been worse than the day that had come before it. Today was the worst of all. A cold wind was blowing out of the north, and it made the trees rustle like living things. All day, Will had felt as though something were watching him, something cold and implacable that loved him not. Gared had felt it too. Will wanted nothing so much as to ride hellbent for the safety of the Wall, but that was not a feeling to share with your commander.\n",
    "\n",
    "\n",
    "Especially not a commander like this one.\n",
    "\n",
    "\n",
    "Ser Waymar Royce was the youngest son of an ancient house with too many heirs. He was a handsome youth of eighteen, grey-eyed and graceful and slender as a knife. Mounted on his huge black destrier, the knight towered above Will and Gared on their smaller garrons. He wore black leather boots, black woolen pants, black moleskin gloves, and a fine supple coat of gleaming black ringmail over layers of black wool and boiled leather. Ser Waymar had been a Sworn Brother of the Night’s Watch for less than half a year, but no one could say he had not prepared for his vocation. At least insofar as his wardrobe was concerned.\n",
    "\n",
    "\n",
    "His cloak was his crowning glory; sable, thick and black and soft as sin. “Bet he killed them all himself, he did,” Gared told the barracks over wine, “twisted their little heads off, our mighty warrior.” They had all shared the laugh.\n",
    "\n",
    "\n",
    "It is hard to take orders from a man you laughed at in your cups, Will reflected as he sat shivering atop his garron. Gared must have felt the same.\n",
    "\n",
    "\n",
    "“Mormont said as we should track them, and we did,” Gared said. “They’re dead. They shan’t trouble us no more. There’s hard riding before us. I don’t like this weather. If it snows, we could be a fortnight getting back, and snow’s the best we can hope for. Ever seen an ice storm, my lord?”\n",
    "\n",
    "\n",
    "The lordling seemed not to hear him. He studied the deepening twilight in that half- bored, half-distracted way he had. Will had ridden with the knight long enough to understand that it was best not to interrupt him when he looked like that. “Tell me again what you saw, Will. All the details. Leave nothing out.”\n",
    "\n",
    "\n",
    "Will had been a hunter before he joined the Night’s Watch. Well, a poacher in truth.\n",
    "\n",
    "Mallister freeriders had caught him red-handed in the Mallisters’ own woods, skinning one of the Mallisters’ own bucks, and it had been a choice of putting on the black or losing a hand. No one could move through the woods as silent as Will, and it had not taken the black brothers long to discover his talent.\n",
    "\n",
    "\n",
    "“The camp is two miles farther on, over that ridge, hard beside a stream,” Will said. “I got close as I dared. There’s eight of them, men and women both. No children I could see. They put up a lean-to against the rock. The snow’s pretty well covered it now, but I could still make it out. No fire burning, but the firepit was still plain as day. No one moving. I watched a long time. No living man ever lay so still.”\n",
    "\n",
    "\n",
    "“Did you see any blood?” “Well, no,” Will admitted. “Did you see any weapons?”\n",
    "“Some swords, a few bows. One man had an axe. Heavy-looking, double-bladed, a cruel piece of iron. It was on the ground beside him, right by his hand.”\n",
    "\n",
    "\n",
    "“Did you make note of the position of the bodies?”\n",
    "\n",
    "\n",
    "Will shrugged. “A couple are sitting up against the rock. Most of them on the ground. Fallen, like.”\n",
    "\n",
    "\n",
    "“Or sleeping,” Royce suggested.\n",
    "\n",
    "\n",
    "“Fallen,” Will insisted. “There’s one woman up an ironwood, half-hid in the branches. A far-eyes.” He smiled thinly. “I took care she never saw me. When I got closer, I saw that she wasn’t moving neither.” Despite himself, he shivered.\n",
    "\n",
    "\n",
    "“You have a chill?” Royce asked.\n",
    "\n",
    "\n",
    "“Some,” Will muttered. “The wind, m’lord.”\n",
    "\n",
    "\n",
    "The young knight turned back to his grizzled man-at-arms. Frostfallen leaves whispered past them, and Royce’s destrier moved restlessly. “What do you think might have killed these men, Gared?” Ser Waymar asked casually. He adjusted the drape of his long sable cloak.\n",
    "\n",
    "\n",
    "“It was the cold,” Gared said with iron certainty. “I saw men freeze last winter, and the\n",
    "\n",
    "one before, when I was half a boy. Everyone talks about snows forty foot deep, and how the ice wind comes howling out of the north, but the real enemy is the cold. It steals up on you quieter than Will, and at first you shiver and your teeth chatter and you stamp your feet and dream of mulled wine and nice hot fires. It burns, it does. Nothing burns like the cold. But only for a while. Then it gets inside you and starts to fill you up, and after a while you don’t have the strength to fight it. It’s easier just to sit down or go to sleep. They say you don’t feel any pain toward the end. First you go weak and drowsy, and everything starts to fade, and then it’s like sinking into a sea of warm milk. Peaceful, like.”\n",
    "“Such eloquence, Gared,” Ser Waymar observed. “I never suspected you had it in you.” “I’ve had the cold in me too, lordling.” Gared pulled back his hood, giving Ser Waymar a\n",
    "good long look at the stumps where his ears had been. “Two ears, three toes, and the\n",
    "little finger off my left hand. I got off light. We found my brother frozen at his watch, with a smile on his face.”\n",
    "\n",
    "\n",
    "Ser Waymar shrugged. “You ought dress more warmly, Gared.”\n",
    "\n",
    "\n",
    "Gared glared at the lordling, the scars around his ear holes flushed red with anger where Maester Aemon had cut the ears away. “We’ll see how warm you can dress when the winter comes.” He pulled up his hood and hunched over his garron, silent and sullen.\n",
    "\n",
    "\n",
    "“If Gared said it was the cold . . . ” Will began.\n",
    "\n",
    "\n",
    "“Have you drawn any watches this past week, Will?”\n",
    "\n",
    "\n",
    "“Yes, m’lord.” There never was a week when he did not draw a dozen bloody watches. What was the man driving at?\n",
    "\n",
    "\n",
    "“And how did you find the Wall?”\n",
    "\n",
    "\n",
    "“Weeping,” Will said, frowning. He saw it clear enough, now that the lordling had pointed it out. “They couldn’t have froze. Not if the Wall was weeping. It wasn’t cold enough.”\n",
    "\n",
    "\n",
    "Royce nodded. “Bright lad. We’ve had a few light frosts this past week, and a quick flurry of snow now and then, but surely no cold fierce enough to kill eight grown men. Men\n",
    "clad in fur and leather, let me remind you, with shelter near at hand, and the means of making fire.” The knight’s smile was cocksure. “Will, lead us there. I would see these dead men for myself.”\n",
    "\n",
    "And then there was nothing to be done for it. The order had been given, and honor bound them to obey.\n",
    "\n",
    "\n",
    "Will went in front, his shaggy little garron picking the way carefully through the undergrowth. A light snow had fallen the night before, and there were stones and roots and hidden sinks lying just under its crust, waiting for the careless and the unwary. Ser Waymar Royce came next, his great black destrier snorting impatiently. The warhorse was the wrong mount for ranging, but try and tell that to the lordling. Gared brought up the rear. The old man-at-arms muttered to himself as he rode.\n",
    "\n",
    "\n",
    "Twilight deepened. The cloudless sky turned a deep purple, the color of an old bruise, then faded to black. The stars began to come out. A half-moon rose. Will was grateful for the light.\n",
    "“We can make a better pace than this, surely,” Royce said when the moon was full risen. “Not with this horse,” Will said. Fear had made him insolent. “Perhaps my lord would\n",
    "care to take the lead?”\n",
    "\n",
    "\n",
    "Ser Waymar Royce did not deign to reply. Somewhere off in the wood a wolf howled.\n",
    "Will pulled his garron over beneath an ancient gnarled ironwood and dismounted. “Why are you stopping?” Ser Waymar asked.\n",
    "“Best go the rest of the way on foot, m’lord. It’s just over that ridge.”\n",
    "\n",
    "\n",
    "Royce paused a moment, staring off into the distance, his face reflective. A cold wind whispered through the trees. His great sable cloak stirred behind like something half- alive.\n",
    "\n",
    "\n",
    "“There’s something wrong here,” Gared muttered.\n",
    "\n",
    "\n",
    "The young knight gave him a disdainful smile. “Is there?” “Can’t you feel it?” Gared asked. “Listen to the darkness.”\n",
    "Will could feel it. Four years in the Night’s Watch, and he had never been so afraid. What was it?\n",
    "\n",
    "“Wind. Trees rustling. A wolf. Which sound is it that unmans you so, Gared?” When Gared did not answer, Royce slid gracefully from his saddle. He tied the destrier securely to a low-hanging limb, well away from the other horses, and drew his longsword from its sheath. Jewels glittered in its hilt, and the moonlight ran down the shining steel. It was a splendid weapon, castle-forged, and new-made from the look of it. Will doubted it had ever been swung in anger.\n",
    "\n",
    "\n",
    "“The trees press close here,” Will warned. “That sword will tangle you up, m’lord. Better a knife.”\n",
    "\n",
    "\n",
    "“If I need instruction, I will ask for it,” the young lord said. “Gared, stay here. Guard the horses.”\n",
    "\n",
    "\n",
    "Gared dismounted. “We need a fire. I’ll see to it.”\n",
    "\n",
    "\n",
    "“How big a fool are you, old man? If there are enemies in this wood, a fire is the last thing we want.”\n",
    "\n",
    "\n",
    "“There’s some enemies a fire will keep away,” Gared said. “Bears and direwolves and . . . and other things . . . ”\n",
    "\n",
    "\n",
    "Ser Waymar’s mouth became a hard line. “No fire.”\n",
    "\n",
    "\n",
    "Gared’s hood shadowed his face, but Will could see the hard glitter in his eyes as he stared at the knight. For a moment he was afraid the older man would go for his sword. It was a short, ugly thing, its grip discolored by sweat, its edge nicked from hard use, but Will would not have given an iron bob for the lordling’s life if Gared pulled it from its scabbard.\n",
    "\n",
    "\n",
    "Finally Gared looked down. “No fire,” he muttered, low under his breath. Royce took it for acquiescence and turned away. “Lead on,” he said to Will.\n",
    "Will threaded their way through a thicket, then started up the slope to the low ridge where he had found his vantage point under a sentinel tree. Under the thin crust of snow, the ground was damp and muddy, slick footing, with rocks and hidden roots to trip you up. Will made no sound as he climbed. Behind him, he heard the soft metallic slither of the lordling’s ringmail, the rustle of leaves, and muttered curses as reaching branches grabbed at his longsword and tugged on his splendid sable cloak.\n",
    "\n",
    "\n",
    "The great sentinel was right there at the top of the ridge, where Will had known it would\n",
    "\n",
    "be, its lowest branches a bare foot off the ground. Will slid in underneath, flat on his belly in the snow and the mud, and looked down on the empty clearing below.\n",
    "\n",
    "\n",
    "His heart stopped in his chest. For a moment he dared not breathe. Moonlight shone down on the clearing, the ashes of the firepit, the snow-covered lean-to, the great rock, the little half-frozen stream. Everything was just as it had been a few hours ago.\n",
    "\n",
    "\n",
    "They were gone. All the bodies were gone.\n",
    "\n",
    "\n",
    "“Gods!” he heard behind him. A sword slashed at a branch as Ser Waymar Royce gained the ridge. He stood there beside the sentinel, longsword in hand, his cloak billowing behind him as the wind came up, outlined nobly against the stars for all to see.\n",
    "\n",
    "\n",
    "“Get down!” Will whispered urgently. “Something’s wrong.”\n",
    "\n",
    "\n",
    "Royce did not move. He looked down at the empty clearing and laughed. “Your dead men seem to have moved camp, Will.”\n",
    "\n",
    "\n",
    "Will’s voice abandoned him. He groped for words that did not come. It was not possible. His eyes swept back and forth over the abandoned campsite, stopped on the axe. A huge double-bladed battle-axe, still lying where he had seen it last, untouched. A valuable weapon . . .\n",
    "\n",
    "\n",
    "“On your feet, Will,” Ser Waymar commanded. “There’s no one here. I won’t have you hiding under a bush.”\n",
    "\n",
    "\n",
    "Reluctantly, Will obeyed.\n",
    "\n",
    "\n",
    "Ser Waymar looked him over with open disapproval. “I am not going back to Castle\n",
    "Black a failure on my first ranging. We will find these men.” He glanced around. “Up the tree. Be quick about it. Look for a fire.”\n",
    "\n",
    "\n",
    "Will turned away, wordless. There was no use to argue. The wind was moving. It cut right through him. He went to the tree, a vaulting grey-green sentinel, and began to climb. Soon his hands were sticky with sap, and he was lost among the needles. Fear filled his gut like a meal he could not digest. He whispered a prayer to the nameless gods of the wood, and slipped his dirk free of its sheath. He put it between his teeth to keep both hands free for climbing. The taste of cold iron in his mouth gave him comfort.\n",
    "\n",
    "\n",
    "Down below, the lordling called out suddenly, “Who goes there?” Will heard uncertainty in the challenge. He stopped climbing; he listened; he watched.\n",
    "\n",
    "The woods gave answer: the rustle of leaves, the icy rush of the stream, a distant hoot of a snow owl.\n",
    "\n",
    "\n",
    "The Others made no sound.\n",
    "\n",
    "\n",
    "Will saw movement from the corner of his eye. Pale shapes gliding through the wood. He turned his head, glimpsed a white shadow in the darkness. Then it was gone. Branches stirred gently in the wind, scratching at one another with wooden fingers. Will opened\n",
    "his mouth to call down a warning, and the words seemed to freeze in his throat. Perhaps he was wrong. Perhaps it had only been a bird, a reflection on the snow, some trick of\n",
    "the moonlight. What had he seen, after all?\n",
    "\n",
    "\n",
    "“Will, where are you?” Ser Waymar called up. “Can you see anything?” He was turning in a slow circle, suddenly wary, his sword in hand. He must have felt them, as Will felt\n",
    "them. There was nothing to see. “Answer me! Why is it so cold?”\n",
    "\n",
    "\n",
    "It was cold. Shivering, Will clung more tightly to his perch. His face pressed hard against the trunk of the sentinel. He could feel the sweet, sticky sap on his cheek.\n",
    "\n",
    "\n",
    "A shadow emerged from the dark of the wood. It stood in front of Royce. Tall, it was, and gaunt and hard as old bones, with flesh pale as milk. Its armor seemed to change color as it moved; here it was white as new-fallen snow, there black as shadow, everywhere dappled with the deep grey-green of the trees. The patterns ran like moonlight on water with every step it took.\n",
    "\n",
    "\n",
    "Will heard the breath go out of Ser Waymar Royce in a long hiss. “Come no farther,” the lordling warned. His voice cracked like a boy’s. He threw the long sable cloak back over his shoulders, to free his arms for battle, and took his sword in both hands. The wind had stopped. It was very cold.\n",
    "\n",
    "\n",
    "The Other slid forward on silent feet. In its hand was a longsword like none that Will had ever seen. No human metal had gone into the forging of that blade. It was alive with moonlight, translucent, a shard of crystal so thin that it seemed almost to vanish when seen edge-on. There was a faint blue shimmer to the thing, a ghost-light that played around its edges, and somehow Will knew it was sharper than any razor.\n",
    "\n",
    "\n",
    "Ser Waymar met him bravely. “Dance with me then.” He lifted his sword high over his head, defiant. His hands trembled from the weight of it, or perhaps from the cold. Yet in that moment, Will thought, he was a boy no longer, but a man of the Night’s Watch.\n",
    "\n",
    "\n",
    "The Other halted. Will saw its eyes; blue, deeper and bluer than any human eyes, a blue that burned like ice. They fixed on the longsword trembling on high, watched the\n",
    "\n",
    "moonlight running cold along the metal. For a heartbeat he dared to hope.\n",
    "\n",
    "\n",
    "They emerged silently from the shadows, twins to the first. Three of\n",
    "them . . . four . . . five . . . Ser Waymar may have felt the cold that came with them, but he never saw them, never heard them. Will had to call out. It was his duty. And his death, if he did. He shivered, and hugged the tree, and kept the silence.\n",
    "\n",
    "\n",
    "The pale sword came shivering through the air.\n",
    "\n",
    "\n",
    "Ser Waymar met it with steel. When the blades met, there was no ring of metal on metal; only a high, thin sound at the edge of hearing, like an animal screaming in pain. Royce checked a second blow, and a third, then fell back a step. Another flurry of blows, and he fell back again.\n",
    "\n",
    "\n",
    "Behind him, to right, to left, all around him, the watchers stood patient, faceless, silent, the shifting patterns of their delicate armor making them all but invisible in the wood. Yet they made no move to interfere.\n",
    "\n",
    "\n",
    "Again and again the swords met, until Will wanted to cover his ears against the strange anguished keening of their clash. Ser Waymar was panting from the effort now, his breath steaming in the moonlight. His blade was white with frost; the Other’s danced with pale blue light.\n",
    "\n",
    "\n",
    "Then Royce’s parry came a beat too late. The pale sword bit through the ringmail beneath his arm. The young lord cried out in pain. Blood welled between the rings. It steamed in the cold, and the droplets seemed red as fire where they touched the snow. Ser Waymar’s fingers brushed his side. His moleskin glove came away soaked with red.\n",
    "\n",
    "\n",
    "The Other said something in a language that Will did not know; his voice was like the cracking of ice on a winter lake, and the words were mocking.\n",
    "\n",
    "\n",
    "Ser Waymar Royce found his fury. “For Robert!” he shouted, and he came up snarling, lifting the frost-covered longsword with both hands and swinging it around in a flat sidearm slash with all his weight behind it. The Other’s parry was almost lazy.\n",
    "\n",
    "\n",
    "When the blades touched, the steel shattered.\n",
    "\n",
    "\n",
    "A scream echoed through the forest night, and the longsword shivered into a hundred brittle pieces, the shards scattering like a rain of needles. Royce went to his knees, shrieking, and covered his eyes. Blood welled between his fingers.\n",
    "\n",
    "\n",
    "The watchers moved forward together, as if some signal had been given. Swords rose\n",
    "\n",
    "and fell, all in a deathly silence. It was cold butchery. The pale blades sliced through ringmail as if it were silk. Will closed his eyes. Far beneath him, he heard their voices and laughter sharp as icicles.\n",
    "\n",
    "\n",
    "When he found the courage to look again, a long time had passed, and the ridge below was empty.\n",
    "\n",
    "\n",
    "He stayed in the tree, scarce daring to breathe, while the moon crept slowly across the black sky. Finally, his muscles cramping and his fingers numb with cold, he climbed down.\n",
    "\n",
    "\n",
    "Royce’s body lay facedown in the snow, one arm outflung. The thick sable cloak had been slashed in a dozen places. Lying dead like that, you saw how young he was. A boy.\n",
    "\n",
    "\n",
    "He found what was left of the sword a few feet away, the end splintered and twisted like a tree struck by lightning. Will knelt, looked around warily, and snatched it up. The broken sword would be his proof. Gared would know what to make of it, and if not him, then surely that old bear Mormont or Maester Aemon. Would Gared still be waiting with the horses? He had to hurry.\n",
    "\n",
    "\n",
    "Will rose. Ser Waymar Royce stood over him.\n",
    "\n",
    "\n",
    "His fine clothes were a tatter, his face a ruin. A shard from his sword transfixed the blind white pupil of his left eye.\n",
    "\n",
    "\n",
    "The right eye was open. The pupil burned blue. It saw.\n",
    "\n",
    "\n",
    "The broken sword fell from nerveless fingers. Will closed his eyes to pray. Long, elegant hands brushed his cheek, then tightened around his throat. They were gloved in the finest moleskin and sticky with blood, yet the touch was icy cold.\n",
    "\"\"\""
   ]
  },
  {
   "cell_type": "code",
   "execution_count": null,
   "metadata": {
    "collapsed": true,
    "scrolled": true
   },
   "outputs": [],
   "source": [
    "# Let's generate some basic data from this very long string\n",
    "print(\"Total characters:\",len(prologue))\n",
    "print(\"Total word count:\",len(prologue.split()))\n",
    "print(\"Paragraph count:\",prologue.count(\"\\n\"))\n",
    "print(\"Rough sentence count:\",prologue.count(\".\"))"
   ]
  },
  {
   "cell_type": "code",
   "execution_count": null,
   "metadata": {
    "collapsed": true
   },
   "outputs": [],
   "source": [
    "# We now know how to process each word. Let's find long words.\n",
    "# What is a long word?\n",
    "long_word = 10\n",
    "for word in prologue.split():\n",
    "    if len(word) >= 10:\n",
    "        print(word)"
   ]
  }
 ],
 "metadata": {
  "kernelspec": {
   "display_name": "Python 3",
   "language": "python",
   "name": "python3"
  },
  "language_info": {
   "codemirror_mode": {
    "name": "ipython",
    "version": 3
   },
   "file_extension": ".py",
   "mimetype": "text/x-python",
   "name": "python",
   "nbconvert_exporter": "python",
   "pygments_lexer": "ipython3",
   "version": "3.5.5"
  }
 },
 "nbformat": 4,
 "nbformat_minor": 2
}
