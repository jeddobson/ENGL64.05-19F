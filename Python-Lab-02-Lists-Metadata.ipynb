{
 "cells": [
  {
   "cell_type": "markdown",
   "metadata": {},
   "source": [
    "<center>\n",
    "<h1>Cultural Analytics</h1><br>\n",
    "<h2>ENGL64.05 Fall 2019</h2>\n",
    "</center>\n",
    "\n",
    "----\n",
    "\n",
    "# Lists and Metadata Processing\n",
    " <center><pre>Rev: 08/23/2019</pre></center>"
   ]
  },
  {
   "cell_type": "code",
   "execution_count": null,
   "metadata": {
    "collapsed": true
   },
   "outputs": [],
   "source": [
    "# We can create a simple list with square brackets:\n",
    "var = [1,2,3,4,5]"
   ]
  },
  {
   "cell_type": "code",
   "execution_count": null,
   "metadata": {
    "collapsed": false
   },
   "outputs": [],
   "source": [
    "# Again, to identify the datatype of a variable, we can use the type() function:\n",
    "type(var)"
   ]
  },
  {
   "cell_type": "code",
   "execution_count": null,
   "metadata": {
    "collapsed": false
   },
   "outputs": [],
   "source": [
    "# We can access list items by requesting the item in sequence.\n",
    "# This works much like a string. To get the first character of\n",
    "# a string, we use square brackets and 0 for the zero-th element:\n",
    "# var[0]\n",
    "# We use the same method with lists. This should return '2':\n",
    "\n",
    "var[1]"
   ]
  },
  {
   "cell_type": "code",
   "execution_count": null,
   "metadata": {
    "collapsed": false
   },
   "outputs": [],
   "source": [
    "# We can iterate through a list with a 'for loop'. We name the local variable\n",
    "# that will be assigned a value for each list item.\n",
    "\n",
    "# If we've not noticed this before, a for loop has three important features:\n",
    "#\n",
    "# 1) we name the local variable and the object to iterate through\n",
    "# 2) follow the object to iterate through with a colon ':'\n",
    "# 3) the instructions that will be iterated are indented (all to the same point)\n",
    "#\n",
    "\n",
    "for number in var:\n",
    "    print(number,type(number))"
   ]
  },
  {
   "cell_type": "code",
   "execution_count": null,
   "metadata": {
    "collapsed": true
   },
   "outputs": [],
   "source": [
    "# Note how the above shows that Python has autotyped each item in the list\n",
    "# as an integer.\n",
    "\n",
    "# Now, we can create a list for a book. Note that we can break lines easily\n",
    "# here to make this readable.\n",
    "\n",
    "metadata = [\"Frederick Douglass\",\n",
    "            \"Narrative of the Life of Frederick Douglass, an American Slave. Written by Himself\"]\n",
    "\n",
    "# This provides us with a semi-computable list of strings."
   ]
  },
  {
   "cell_type": "code",
   "execution_count": null,
   "metadata": {
    "collapsed": true
   },
   "outputs": [],
   "source": [
    "# But what if we want to add the year of publication?\n",
    "# We can append a list with the append method. It operates directly on the list\n",
    "# and modifies the list.\n",
    "#\n",
    "# Strings are immutable while lists are mutable.\n",
    "\n",
    "# If we add just the year, it will be autotyped as an integer:\n",
    "metadata.append(1845)"
   ]
  },
  {
   "cell_type": "code",
   "execution_count": null,
   "metadata": {
    "collapsed": false
   },
   "outputs": [],
   "source": [
    "print(metadata)"
   ]
  },
  {
   "cell_type": "code",
   "execution_count": null,
   "metadata": {
    "collapsed": false
   },
   "outputs": [],
   "source": [
    "# But what if we have multiple books? We can create what is called a list-of-lists.\n",
    "# We can start be creating an empty list to hold all the items:\n",
    "\n",
    "book_metadata = list()\n",
    "book_metadata.append(metadata)\n",
    "print(book_metadata)"
   ]
  },
  {
   "cell_type": "code",
   "execution_count": null,
   "metadata": {
    "collapsed": false
   },
   "outputs": [],
   "source": [
    "# Now we can easily add another entry:\n",
    "book_metadata.append(['Frederick Douglass',\n",
    "                      'Life and Times of Frederick Douglass, Written by Himself. His Early Life as a Slave, His Escape from Bondage, and His Complete History to the Present Time, Including His Connection with the Anti-slavery Movement; His Labors in Great Britain as Well as in His Own Country; His Experience in the Conduct of an Influential Newspaper; His Connection with the Underground Railroad; His Relations with John Brown and the Harpers Ferry Raid;  His Recruiting the 54th and 55th Mass. Colored Regiments; His Interviews with Presidents Lincoln and Johnson; His Appointment by Gen. Grant to Accompany the Santo Domingo Commission&#x2014;Also to a Seat in the Council of the District of Columbia; His Appointment as United States Marshal by President R. B. Hayes; Also His Appointment to Be Recorder of Deeds in Washington by President J. A. Garfield; with Many Other Interesting and Important Events of His Most Eventful Life; With an Introduction by Mr. George L. Ruffin, of Boston',\n",
    "                      1892])"
   ]
  },
  {
   "cell_type": "code",
   "execution_count": null,
   "metadata": {
    "collapsed": false
   },
   "outputs": [],
   "source": [
    "# We can now count the number of entries with the len() function:\n",
    "len(book_metadata)"
   ]
  },
  {
   "cell_type": "markdown",
   "metadata": {},
   "source": [
    "## Now we'll setup a more complicated approach to examining book metadata\n",
    "---"
   ]
  },
  {
   "cell_type": "code",
   "execution_count": null,
   "metadata": {
    "collapsed": false
   },
   "outputs": [],
   "source": [
    "# This lines tell the Python interpreter to load some additional functions.\n",
    "# We need functions to parse Comma Separated Value (CSV) data.\n",
    "\n",
    "import csv\n",
    "\n",
    "# we'll set a variable to hold the number of records read from this CSV file.\n",
    "ln = 0\n",
    "\n",
    "# as above, we'll create a metadata variable (overwritting the previous variable)\n",
    "metadata=list()\n",
    "\n",
    "# Now we open the CSV file and read each line, appending to the metadata list:\n",
    "with open('data/Underwood_ch1/allgenremeta.csv', encoding = 'utf-8') as f:\n",
    "    reader = csv.reader(f, delimiter = ',')\n",
    "    for row in reader:\n",
    "        metadata.append(row)\n",
    "        \n",
    "        # increment our counter\n",
    "        ln += 1\n",
    "\n",
    "# tell us how many entries we've read\n",
    "print(\"read %s lines\" % ln)"
   ]
  },
  {
   "cell_type": "code",
   "execution_count": null,
   "metadata": {
    "collapsed": false
   },
   "outputs": [],
   "source": [
    "# The first line will give us some data about our metadata:\n",
    "print(metadata[0])"
   ]
  },
  {
   "cell_type": "code",
   "execution_count": null,
   "metadata": {
    "collapsed": false
   },
   "outputs": [],
   "source": [
    "# Let's remove the header (our \"metadata\") for easier processing:\n",
    "metadata = metadata[1:]"
   ]
  },
  {
   "cell_type": "code",
   "execution_count": null,
   "metadata": {
    "collapsed": false
   },
   "outputs": [],
   "source": [
    "# This metadata file contains 5,751 entries about a sample of books from \n",
    "# the 18th to 20th century. Some of the entries have uncertain publication \n",
    "# dates and there are three different genres:\n",
    "#\n",
    "# poe = poetry\n",
    "# fic = fiction\n",
    "# bio = biography\n",
    "\n",
    "cleaned_up=list()\n",
    "for book in metadata:\n",
    "\n",
    "    # if the date just contains digits (i.e., just a year-of-publication)\n",
    "    if book[2].isdigit() == True:\n",
    "       \n",
    "        # only select for fiction\n",
    "        if book[5] == \"fic\":\n",
    "            cleaned_up.append(book)"
   ]
  },
  {
   "cell_type": "code",
   "execution_count": null,
   "metadata": {
    "collapsed": false
   },
   "outputs": [],
   "source": [
    "# How many books now?\n",
    "print(len(cleaned_up))"
   ]
  },
  {
   "cell_type": "code",
   "execution_count": null,
   "metadata": {
    "collapsed": false
   },
   "outputs": [],
   "source": [
    "# sort and print first and last entry\n",
    "cleaned_metadata = sorted(cleaned_up, key = lambda x: x[2])\n",
    "print(cleaned_metadata[:1])\n",
    "print(cleaned_metadata[-1:])"
   ]
  },
  {
   "cell_type": "markdown",
   "metadata": {},
   "source": [
    "### Title Lengths\n",
    "\n",
    "Using our knowledge of conditional tests (if statements), we can get the average title \n",
    "length for each century of data.\n",
    "\n",
    "---\n"
   ]
  },
  {
   "cell_type": "code",
   "execution_count": null,
   "metadata": {
    "collapsed": false
   },
   "outputs": [],
   "source": [
    "# Eighteenth Century\n",
    "average = 0\n",
    "i = 0\n",
    "for book in cleaned_metadata:\n",
    "    pub_year = int(book[2])\n",
    "    if pub_year >= 1700 and pub_year <= 1799:\n",
    "        i = i + 1\n",
    "        average = average + len(book[10])\n",
    "print(average/i)"
   ]
  },
  {
   "cell_type": "code",
   "execution_count": null,
   "metadata": {
    "collapsed": false
   },
   "outputs": [],
   "source": [
    "# Nineteenth Century\n",
    "average = 0\n",
    "i = 0\n",
    "for book in cleaned_metadata:\n",
    "    pub_year = int(book[2])\n",
    "    if pub_year >= 1800 and pub_year <= 1899:\n",
    "        i = i + 1\n",
    "        average = average + len(book[10])\n",
    "print(average/i)"
   ]
  },
  {
   "cell_type": "code",
   "execution_count": null,
   "metadata": {
    "collapsed": false
   },
   "outputs": [],
   "source": [
    "# Twentieth Century\n",
    "average = 0\n",
    "i = 0\n",
    "for book in cleaned_metadata:\n",
    "    pub_year = int(book[2])\n",
    "    if pub_year >= 1900 and pub_year <= 1999:\n",
    "        i = i + 1\n",
    "        average = average + len(book[10])\n",
    "print(average/i)"
   ]
  },
  {
   "cell_type": "markdown",
   "metadata": {},
   "source": [
    "### <font color=\"red\">Question:</font> Now run the same for the other three genres. Any differences?"
   ]
  },
  {
   "cell_type": "code",
   "execution_count": null,
   "metadata": {
    "collapsed": false
   },
   "outputs": [],
   "source": [
    "# We can iterate through the title list and search for some of the examples\n",
    "# invoked by Moretti.\n",
    "\n",
    "i = 0\n",
    "for book in cleaned_metadata:\n",
    "    title = book[10]\n",
    "    if title.startswith(\"The\"):\n",
    "        i += 1\n",
    "print(i)"
   ]
  },
  {
   "cell_type": "code",
   "execution_count": null,
   "metadata": {
    "collapsed": false
   },
   "outputs": [],
   "source": [
    "# But was that all of them?\n",
    "i = 0\n",
    "for book in cleaned_metadata:\n",
    "    title = book[10]\n",
    "    if title.lower().startswith(\"the\"):\n",
    "        i += 1\n",
    "print(i)"
   ]
  },
  {
   "cell_type": "code",
   "execution_count": null,
   "metadata": {
    "collapsed": true
   },
   "outputs": [],
   "source": [
    "# What other patterns might we search for?"
   ]
  }
 ],
 "metadata": {
  "kernelspec": {
   "display_name": "Python 3",
   "language": "python",
   "name": "python3"
  },
  "language_info": {
   "codemirror_mode": {
    "name": "ipython",
    "version": 3
   },
   "file_extension": ".py",
   "mimetype": "text/x-python",
   "name": "python",
   "nbconvert_exporter": "python",
   "pygments_lexer": "ipython3",
   "version": "3.5.5"
  }
 },
 "nbformat": 4,
 "nbformat_minor": 2
}
