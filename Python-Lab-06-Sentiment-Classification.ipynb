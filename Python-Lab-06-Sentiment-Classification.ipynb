{
 "cells": [
  {
   "cell_type": "markdown",
   "metadata": {},
   "source": [
    "<center>\n",
    "<h1>Cultural Analytics</h1><br>\n",
    "<h2>ENGL64.05 Fall 2019</h2>\n",
    "</center>\n",
    "\n",
    "----\n",
    "\n",
    "# Lab 6\n",
    "## Sentiment Analysis \n",
    "\n",
    " <center><pre>Rev: 10/31/2019</pre></center>"
   ]
  },
  {
   "cell_type": "code",
   "execution_count": null,
   "metadata": {
    "collapsed": true
   },
   "outputs": [],
   "source": [
    "# load textblob package\n",
    "from textblob import TextBlob\n",
    "import pickle"
   ]
  },
  {
   "cell_type": "markdown",
   "metadata": {},
   "source": [
    "## Section 1: Introduction to TextBlob "
   ]
  },
  {
   "cell_type": "code",
   "execution_count": null,
   "metadata": {
    "collapsed": false
   },
   "outputs": [],
   "source": [
    "# Enter some sample text and make a TextBlob object\n",
    "sample_sentence = \"REPLACE WITH SOME SAMPLE TEXT\"\n",
    "blob = TextBlob(sample_sentence)"
   ]
  },
  {
   "cell_type": "code",
   "execution_count": null,
   "metadata": {
    "collapsed": false
   },
   "outputs": [],
   "source": [
    "# now experiment with some TextBlob features.\n",
    "# - extract word counts\n",
    "# - correct the spelling\n",
    "# - translate to French\n",
    "\n",
    "# You can execute help(blob) to learn how to do this or visit the documentation\n",
    "# https://textblob.readthedocs.io/en/dev/"
   ]
  },
  {
   "cell_type": "code",
   "execution_count": null,
   "metadata": {
    "collapsed": true
   },
   "outputs": [],
   "source": [
    "# Now extract the sentiment and subjectivity of your text.\n",
    "# How was this determined? What does subjectivity mean?\n",
    "blob.sentiment"
   ]
  },
  {
   "cell_type": "code",
   "execution_count": null,
   "metadata": {
    "collapsed": false
   },
   "outputs": [],
   "source": [
    "# Here is a sample book review. Is this positive or negative?\n",
    "sample_review = \"\"\"While I enjoyed most of Dies the Fire, by the end I was very annoyed with the Juniper character,\n",
    "and found myself skipping over the (boring) details of her wiccan prayers and outlook. I had hopes for The \n",
    "Protectors War, and unfortunately it's worse than it's predecessor. McKenzie and her group get far too much \n",
    "play, and come across as self righteous religious fanatics. The reader is dragged thru endless truly horrible \n",
    "chants and poems, as these people seem to have to invoke their deities with laughably stilted invocations for \n",
    "every thing from brushing their teeth to going into battle. I found myself skipping large chunks of this book, \n",
    "and the editing- switching from linear narrative to flashback in midstream- didn't help matters any. There is too\n",
    "much exposition, and not enough action. All in all, a boring disapointment. The third book in the series is out \n",
    "in hardcover, but I won't even be checking it out of the library.\"\"\""
   ]
  },
  {
   "cell_type": "markdown",
   "metadata": {},
   "source": [
    "## Section 2: Sentiment Scoring of a Collection"
   ]
  },
  {
   "cell_type": "code",
   "execution_count": null,
   "metadata": {
    "collapsed": true
   },
   "outputs": [],
   "source": [
    "# We'll first load a pickled object (stored data in Python-native format)\n",
    "#\n",
    "# These are book reviews. We want to be able to determine if they are positive \n",
    "# or negative reviews.\n",
    "\n",
    "import pickle\n",
    "book_review_data = pickle.load(open('data/book-reviews.pkl','rb'))"
   ]
  },
  {
   "cell_type": "code",
   "execution_count": null,
   "metadata": {
    "collapsed": false
   },
   "outputs": [],
   "source": [
    "# How many reviews do we have?\n",
    "print(len(book_review_data))"
   ]
  },
  {
   "cell_type": "code",
   "execution_count": null,
   "metadata": {
    "collapsed": true
   },
   "outputs": [],
   "source": [
    "# book_review_data is a list of strings that you can process with TextBlob\n",
    "#\n",
    "# we can iterate through a list with a for loop:\n",
    "#\n",
    "# for review in book_review_data:\n",
    "#     code_to_execute"
   ]
  },
  {
   "cell_type": "code",
   "execution_count": null,
   "metadata": {
    "collapsed": false
   },
   "outputs": [],
   "source": [
    "# What makes a negative or a positive review? D\n",
    "# How many negative reviews do you have in this collection?"
   ]
  },
  {
   "cell_type": "code",
   "execution_count": null,
   "metadata": {
    "collapsed": true
   },
   "outputs": [],
   "source": [
    "# Convert these reviews into a four-star system."
   ]
  },
  {
   "cell_type": "code",
   "execution_count": null,
   "metadata": {
    "collapsed": false
   },
   "outputs": [],
   "source": [
    "# Now plot the distribution of the reviews. Pick your type of data and a method \n",
    "# of visualizing your data.\n",
    "# \n",
    "# https://matplotlib.org/3.1.1/tutorials/index.html\n",
    "\n",
    "import matplotlib.pyplot as plt\n",
    "%matplotlib inline\n",
    "plt.plot(data_goes_here)"
   ]
  },
  {
   "cell_type": "code",
   "execution_count": null,
   "metadata": {
    "collapsed": false
   },
   "outputs": [],
   "source": [
    "# Question: Are negative reviews more or less subjective than positive reviews?"
   ]
  },
  {
   "cell_type": "markdown",
   "metadata": {},
   "source": [
    "## Section 3: NaiveBayes Classification"
   ]
  },
  {
   "cell_type": "code",
   "execution_count": null,
   "metadata": {
    "collapsed": true
   },
   "outputs": [],
   "source": [
    "# Here are the samples from the TextBlob tutorial\n",
    "train = [\n",
    "    ('I love this sandwich.', 'pos'),\n",
    "    ('this is an amazing place!', 'pos'),\n",
    "    ('I feel very good about these beers.', 'pos'),\n",
    "    ('this is my best work.', 'pos'),\n",
    "    (\"what an awesome view\", 'pos'),\n",
    "    ('I do not like this restaurant', 'neg'),\n",
    "    ('I am tired of this stuff.', 'neg'),\n",
    "    (\"I can't deal with this\", 'neg'),\n",
    "    ('he is my sworn enemy!', 'neg'),\n",
    "    ('my boss is horrible.', 'neg')\n",
    "]\n",
    "test = [\n",
    "    ('the beer was good.', 'pos'),\n",
    "    ('I do not enjoy my job', 'neg'),\n",
    "    (\"I ain't feeling dandy today.\", 'neg'),\n",
    "    (\"I feel amazing!\", 'pos'),\n",
    "    ('Gary is a friend of mine.', 'pos'),\n",
    "    (\"I can't believe I'm doing this.\", 'neg')\n",
    "]"
   ]
  },
  {
   "cell_type": "code",
   "execution_count": null,
   "metadata": {
    "collapsed": true
   },
   "outputs": [],
   "source": [
    "# Now import NaiveBayesClassifier and create the classifer as 'cl' \n",
    "# and train in your training data."
   ]
  },
  {
   "cell_type": "code",
   "execution_count": null,
   "metadata": {
    "collapsed": false
   },
   "outputs": [],
   "source": [
    "# In this cell, use this trained classifier to classify your first ten\n",
    "# book review from the book_review_data dataset."
   ]
  },
  {
   "cell_type": "code",
   "execution_count": null,
   "metadata": {
    "collapsed": false
   },
   "outputs": [],
   "source": [
    "# Now test the accuracy of your classifer on the supplied test dataset.\n",
    "# Is this good? How might your selection of training and testing data inform \n",
    "# the accuracy of your model?"
   ]
  },
  {
   "cell_type": "code",
   "execution_count": null,
   "metadata": {
    "collapsed": false
   },
   "outputs": [],
   "source": [
    "# Display the seven most important features for determining if a section of text\n",
    "# is positive or negative."
   ]
  },
  {
   "cell_type": "code",
   "execution_count": null,
   "metadata": {
    "collapsed": false
   },
   "outputs": [],
   "source": [
    "# Now we want to build a nationality classification system\n",
    "# add several more novels to the following:\n",
    "# \n",
    "novels = [\n",
    "    (\"data/Novel450/EN_1895_Crane,Stephen_TheRedBadgeofCourage_Novel.txt\",\"American\"),\n",
    "    (\"data/Novel450/EN_1895_Wells,H.G._TheTimeMachine_Novel.txt\",\"British\"),\n",
    "    (\"data/Novel450/EN_1897_Stoker,Bram_Dracula_Novel.txt\",\"British\"),\n",
    "    (\"data/Novel450/EN_1920_Fitzgerald,FScott_ThisSideofParadise_Novel.txt\",\"American\"),\n",
    "    (\"data/Novel450/EN_1920_Wharton,Edith_TheAgeofInnocence_Novel.txt\",\"American\"),\n",
    "    (\"data/Novel450/EN_1922_Fitzgerald,FScott_TheBeautifulandtheDamned_Novel.txt\",\"American\"),\n",
    "    (\"data/Novel450/EN_1925_Woolf,Virginia_Mrs.Dalloway_Novel.txt\",\"British\"),\n",
    "    (\"data/Novel450/EN_1927_Woolf,Virginia_TotheLighthouse_Novel.txt\",\"British\"),\n",
    "    (\"data/Novel450/EN_1928_Woolf,Virginia_Orlando_Novel.txt\",\"British\")\n",
    "]"
   ]
  },
  {
   "cell_type": "code",
   "execution_count": null,
   "metadata": {
    "collapsed": false
   },
   "outputs": [],
   "source": [
    "# create datasets and split\n",
    "# you'll want to adjust these numbers to split the testing and training sets\n",
    "\n",
    "train = novels[4:]\n",
    "test = novels[:4]\n",
    "\n",
    "training_data = list()\n",
    "for i in train:\n",
    "    text = open(i[0]).read()\n",
    "    label = i[1]\n",
    "    training_data.append((text,label))\n",
    "    \n",
    "testing_data = list()\n",
    "for i in test:\n",
    "    text = open(i[0]).read()\n",
    "    label = i[1]\n",
    "    testing_data.append((text,label))"
   ]
  },
  {
   "cell_type": "code",
   "execution_count": null,
   "metadata": {
    "collapsed": false
   },
   "outputs": [],
   "source": [
    "# train the classifer\n",
    "novel_classifier = NaiveBayesClassifier(training_data)"
   ]
  },
  {
   "cell_type": "code",
   "execution_count": null,
   "metadata": {
    "collapsed": false
   },
   "outputs": [],
   "source": [
    "# now test on your first novel in the testing data:\n",
    "novel_classifier.classify(testing_data[0][0])"
   ]
  },
  {
   "cell_type": "code",
   "execution_count": null,
   "metadata": {
    "collapsed": true
   },
   "outputs": [],
   "source": [
    "# now test the accuracy against all the testing data\n",
    "# does this work?"
   ]
  }
 ],
 "metadata": {
  "kernelspec": {
   "display_name": "Python 3",
   "language": "python",
   "name": "python3"
  },
  "language_info": {
   "codemirror_mode": {
    "name": "ipython",
    "version": 3
   },
   "file_extension": ".py",
   "mimetype": "text/x-python",
   "name": "python",
   "nbconvert_exporter": "python",
   "pygments_lexer": "ipython3",
   "version": "3.5.5"
  }
 },
 "nbformat": 4,
 "nbformat_minor": 2
}
